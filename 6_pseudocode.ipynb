{
  "cells": [
    {
      "cell_type": "markdown",
      "metadata": {
        "id": "TG9UQYLJ5o8r"
      },
      "source": [
        "## What is Pseudo-code?"
      ]
    },
    {
      "cell_type": "markdown",
      "metadata": {
        "id": "wnlZVI0W5o8t"
      },
      "source": [
        "Pseudocode is a way of expressing the logic of an algorithm in plain English or simple statements that resemble programming code. It is not bound by any specific programming language syntax and focuses on the logic and structure of the solution rather than the precise implementation details. Pseudocode helps in planning, designing, and communicating algorithms effectively."
      ]
    },
    {
      "cell_type": "markdown",
      "metadata": {
        "id": "zCBWLpJt5o8t"
      },
      "source": [
        "### Basic Pseudocode Structure\n",
        "\n",
        "Pseudocode follows a structured format that consists of simple statements, control structures, and variables. Here are some basic elements of pseudocode:\n",
        "\n",
        "- Statements: Each line of pseudocode represents a specific action or instruction, written in plain language. For example, \"Print 'Hello, world!'\" or \"Set x to 5.\"\n",
        "\n",
        "- Variables: Variables are used to store and manipulate data in pseudocode. They are usually represented by names and can be assigned values or used in expressions. For example, \"Set x to 5\" or \"total = x + y.\"\n",
        "\n",
        "- Input/Output: Pseudocode often includes instructions for reading input from the user or displaying output. For example, \"Read user input\" or \"Display result.\"\n",
        "\n",
        "- Control Structures: Pseudocode includes control structures like if-else statements, loops, and function definitions. These control structures help in making decisions and repeating actions. For example, \"If x is greater than 10, then do this\" or \"Repeat until condition is true.\""
      ]
    },
    {
      "cell_type": "markdown",
      "metadata": {
        "id": "LV2d2sTF5o8u"
      },
      "source": [
        "### Writing Pseudocode\n",
        "When writing pseudocode, focus on expressing the logic of the algorithm in a clear and understandable manner. Here are some tips to help you get started:\n",
        "- Start with a clear problem statement: Understand the problem you are trying to solve and clearly define the inputs, outputs, and expected behavior.\n",
        "\n",
        "- Break down the problem into smaller steps: Identify the key actions or operations required to solve the problem and outline them step by step.\n",
        "\n",
        "- Use meaningful names: Choose descriptive names for variables and actions to improve readability and understanding.\n",
        "\n",
        "- Keep it simple: Pseudocode should be concise and easy to follow. Avoid unnecessary details and focus on the main steps.\n",
        "\n",
        "- Indentation: Use indentation to represent code blocks within control structures, just like in actual programming languages. This helps visualize the structure and hierarchy of the algorithm.\n",
        "\n",
        "- Test your pseudocode: Before translating pseudocode into actual code, mentally walk through the steps to see if they make sense and cover all necessary operations.\n",
        "\n"
      ]
    },
    {
      "cell_type": "markdown",
      "metadata": {
        "id": "vQbtjrj45o8u"
      },
      "source": [
        "One way to do it is to write on a piece of paper each step you would like to do **even the most obvious step** and then figure out how to write the corresponding code.\n",
        "\n",
        "- Example 1: For every element in this list I want to compute the square of each element.\n",
        "\n",
        "    Look at the sentence, there are at least two keywords: **FOR -> FOR LOOP**, and **list -> list variable**\n",
        "\n",
        "- Example 2: As long as the runner hasn't reached the finish line keep running.\n",
        "\n",
        "    Look at the sentence, there is a condition here for stop. Therefore you should use a **WHILE LOOP**. To make sure the code will run, you need to use a variable to store the state of the condition at the beginning. In addition, you will need another variable to store the progress of the runner!"
      ]
    },
    {
      "cell_type": "markdown",
      "metadata": {
        "id": "oKmIEqQS5o8u"
      },
      "source": [
        "### Examples"
      ]
    },
    {
      "cell_type": "markdown",
      "metadata": {
        "id": "p3I5yFa35o8v"
      },
      "source": [
        "1. Write a program that asks the user for a temperature in Fahrenheit and prints out the same temperature in Celsius."
      ]
    },
    {
      "cell_type": "code",
      "execution_count": 4,
      "metadata": {
        "id": "Xy5Zi6j95o8v",
        "outputId": "301b5079-a17a-4ccd-b10c-7edc2c25b269",
        "colab": {
          "base_uri": "https://localhost:8080/",
          "height": 36
        }
      },
      "outputs": [
        {
          "output_type": "execute_result",
          "data": {
            "text/plain": [
              "'\\n1. Start\\n2. Display \"Enter temperature in Fahrenheit:\"\\n3. Read Fahrenheit\\n4. Set Celsius to (Fahrenheit - 32) * 5 / 9\\n5. Display \"Temperature in Celsius: \" + Celsius\\n6. End\\n'"
            ],
            "application/vnd.google.colaboratory.intrinsic+json": {
              "type": "string"
            }
          },
          "metadata": {},
          "execution_count": 4
        }
      ],
      "source": [
        "# This is a sample pseudocode\n",
        "\"\"\"\n",
        "1. Start\n",
        "2. Display \"Enter temperature in Fahrenheit:\"\n",
        "3. Read Fahrenheit\n",
        "4. Set Celsius to (Fahrenheit - 32) * 5 / 9\n",
        "5. Display \"Temperature in Celsius: \" + Celsius\n",
        "6. End\n",
        "\"\"\""
      ]
    },
    {
      "cell_type": "raw",
      "metadata": {
        "id": "t0aIyX_i5o8w"
      },
      "source": [
        "1. Display \"Enter the temperature in Fahrenheit:\"\n",
        "2. Read user input and assign it to the variable 'fahrenheit'\n",
        "3. Convert 'fahrenheit' to Celsius using the formula: celsius = (fahrenheit - 32) * 5/9\n",
        "4. Display \"The temperature in Celsius is \" + celsius"
      ]
    },
    {
      "cell_type": "code",
      "execution_count": 2,
      "metadata": {
        "id": "XyWlxRFv5o8w",
        "outputId": "47a97112-f1f1-4e2c-db94-ffdbf9f41a20",
        "colab": {
          "base_uri": "https://localhost:8080/"
        }
      },
      "outputs": [
        {
          "output_type": "stream",
          "name": "stdout",
          "text": [
            "Enter temperature in Fahrenheit:\n",
            "36\n",
            "Temperature in Celsius: 2.2222222222222223\n"
          ]
        }
      ],
      "source": [
        "# Here is the code\n",
        "# Step 1: Start (implicit in the code execution)\n",
        "\n",
        "# Step 2: Display \"Enter temperature in Fahrenheit:\"\n",
        "print(\"Enter temperature in Fahrenheit:\")\n",
        "\n",
        "# Step 3: Read Fahrenheit\n",
        "fahrenheit = float(input())\n",
        "\n",
        "# Step 4: Set Celsius to (Fahrenheit - 32) * 5 / 9\n",
        "celsius = (fahrenheit - 32) * 5 / 9\n",
        "\n",
        "# Step 5: Display \"Temperature in Celsius: \" + Celsius\n",
        "print(\"Temperature in Celsius:\", celsius)\n"
      ]
    },
    {
      "cell_type": "code",
      "execution_count": null,
      "metadata": {
        "id": "xDKeDki35o8w"
      },
      "outputs": [],
      "source": [
        "# Use the input function for user input. Note when we use the input function, data type is string by default\n",
        "x=input('Please input a temperature in Fahrenheit. ')\n",
        "\n",
        "# We can check the data type for variable x\n",
        "print(\"Data type for variable x is \", type(x))\n",
        "\n",
        "y=(float(x)-32)*5/9  # Formula to convert degree to fahreheit\n",
        "\n",
        "print('Your temperature in Celsius is: ', y)"
      ]
    },
    {
      "cell_type": "markdown",
      "metadata": {
        "id": "X41lHZ5k5o8w"
      },
      "source": [
        "2. Write a program that converts from Fahrenheit to Celsius or from Celsius to Fahrenheit, depending on the user's choice."
      ]
    },
    {
      "cell_type": "code",
      "execution_count": 5,
      "metadata": {
        "id": "AGWvUsXS5o8w",
        "outputId": "7d4ef51c-d104-42fa-f011-e2a5917287f0",
        "colab": {
          "base_uri": "https://localhost:8080/",
          "height": 70
        }
      },
      "outputs": [
        {
          "output_type": "execute_result",
          "data": {
            "text/plain": [
              "'\\n1. Start\\n2. Display \"Enter \\'F\\' to convert from Fahrenheit to Celsius or \\'C\\' to convert from Celsius to Fahrenheit:\"\\n3. Read choice\\n4. If choice is \\'F\\' then\\n    a. Display \"Enter temperature in Fahrenheit:\"\\n    b. Read Fahrenheit\\n    c. Set Celsius to (Fahrenheit - 32) * 5 / 9\\n    d. Display \"Temperature in Celsius: \" + Celsius\\n5. Else if choice is \\'C\\' then\\n    a. Display \"Enter temperature in Celsius:\"\\n    b. Read Celsius\\n    c. Set Fahrenheit to Celsius * 9 / 5 + 32\\n    d. Display \"Temperature in Fahrenheit: \" + Fahrenheit\\n6. End\\n'"
            ],
            "application/vnd.google.colaboratory.intrinsic+json": {
              "type": "string"
            }
          },
          "metadata": {},
          "execution_count": 5
        }
      ],
      "source": [
        "# This is a possible pseudocode\n",
        "\"\"\"\n",
        "1. Start\n",
        "2. Display \"Enter 'F' to convert from Fahrenheit to Celsius or 'C' to convert from Celsius to Fahrenheit:\"\n",
        "3. Read choice\n",
        "4. If choice is 'F' then\n",
        "    a. Display \"Enter temperature in Fahrenheit:\"\n",
        "    b. Read Fahrenheit\n",
        "    c. Set Celsius to (Fahrenheit - 32) * 5 / 9\n",
        "    d. Display \"Temperature in Celsius: \" + Celsius\n",
        "5. Else if choice is 'C' then\n",
        "    a. Display \"Enter temperature in Celsius:\"\n",
        "    b. Read Celsius\n",
        "    c. Set Fahrenheit to Celsius * 9 / 5 + 32\n",
        "    d. Display \"Temperature in Fahrenheit: \" + Fahrenheit\n",
        "6. End\n",
        "\"\"\""
      ]
    },
    {
      "cell_type": "raw",
      "metadata": {
        "id": "hBhgFriG5o8w"
      },
      "source": [
        "1. Display \"Enter 1 to convert from Fahrenheit to Celsius or 2 to convert from Celsius to Fahrenheit:\"\n",
        "2. Read user input and assign it to the variable 'choice'\n",
        "3. If 'choice' is equal to 1, go to step 4. Otherwise, go to step 7.\n",
        "4. Display \"Enter the temperature in Fahrenheit:\"\n",
        "5. Read user input and assign it to the variable 'fahrenheit'\n",
        "6. Convert 'fahrenheit' to Celsius using the formula: celsius = (fahrenheit - 32) * 5/9\n",
        "7. If 'choice' is equal to 2, go to step 8. Otherwise, go to step 11.\n",
        "8. Display \"Enter the temperature in Celsius:\"\n",
        "9. Read user input and assign it to the variable 'celsius'\n",
        "10. Convert 'celsius' to Fahrenheit using the formula: fahrenheit = (celsius * 9/5) + 32\n",
        "11. Display \"The converted temperature is \" + fahrenheit + \" degrees Fahrenheit\" (if 'choice' was 1) or \" degrees Celsius\" (if 'choice' was 2)"
      ]
    },
    {
      "cell_type": "code",
      "execution_count": 6,
      "metadata": {
        "id": "4vIplKyp5o8x",
        "outputId": "80eb6bfc-71fc-4a20-a3ee-08338fe5f26d",
        "colab": {
          "base_uri": "https://localhost:8080/"
        }
      },
      "outputs": [
        {
          "output_type": "stream",
          "name": "stdout",
          "text": [
            "Enter 'F' to convert from Fahrenheit to Celsius or 'C' to convert from Celsius to Fahrenheit:\n",
            "F\n",
            "Enter temperature in Fahrenheit:\n",
            "43\n",
            "Temperature in Celsius: 6.111111111111111\n"
          ]
        }
      ],
      "source": [
        "# Here is the code\n",
        "\n",
        "# Step 1: Start (implicit in the code execution)\n",
        "\n",
        "# Step 2: Display the choice prompt\n",
        "print(\"Enter 'F' to convert from Fahrenheit to Celsius or 'C' to convert from Celsius to Fahrenheit:\")\n",
        "\n",
        "# Step 3: Read choice\n",
        "choice = input().strip().upper()\n",
        "\n",
        "# Step 4: If choice is 'F' then\n",
        "if choice == 'F':\n",
        "    # Step 4a: Display \"Enter temperature in Fahrenheit:\"\n",
        "    print(\"Enter temperature in Fahrenheit:\")\n",
        "\n",
        "    # Step 4b: Read Fahrenheit\n",
        "    fahrenheit = float(input())\n",
        "\n",
        "    # Step 4c: Set Celsius to (Fahrenheit - 32) * 5 / 9\n",
        "    celsius = (fahrenheit - 32) * 5 / 9\n",
        "\n",
        "    # Step 4d: Display \"Temperature in Celsius: \" + Celsius\n",
        "    print(\"Temperature in Celsius:\", celsius)\n",
        "\n",
        "# Step 5: Else if choice is 'C' then\n",
        "elif choice == 'C':\n",
        "    # Step 5a: Display \"Enter temperature in Celsius:\"\n",
        "    print(\"Enter temperature in Celsius:\")\n",
        "\n",
        "    # Step 5b: Read Celsius\n",
        "    celsius = float(input())\n",
        "\n",
        "    # Step 5c: Set Fahrenheit to Celsius * 9 / 5 + 32\n",
        "    fahrenheit = celsius * 9 / 5 + 32\n",
        "\n",
        "    # Step 5d: Display \"Temperature in Fahrenheit: \" + Fahrenheit\n",
        "    print(\"Temperature in Fahrenheit:\", fahrenheit)\n",
        "\n",
        "# Step 6: End (implicit in the code execution)\n",
        "else:\n",
        "    print(\"Invalid choice. Please enter 'F' or 'C'.\")"
      ]
    },
    {
      "cell_type": "code",
      "execution_count": 7,
      "metadata": {
        "id": "qeonf0465o8x",
        "outputId": "8f10e954-92fe-4d59-a3ca-2e3f36402f8b",
        "colab": {
          "base_uri": "https://localhost:8080/"
        }
      },
      "outputs": [
        {
          "output_type": "stream",
          "name": "stdout",
          "text": [
            "Press 1 to convert from Fahrenheit to Celsius or Press 2 to convert from Celsius to Fahrenheit.45\n",
            "What is the number you want to convert?2\n",
            "Please enter either 1 or 2\n"
          ]
        }
      ],
      "source": [
        "x = int(input(\"Press 1 to convert from Fahrenheit to Celsius or Press 2 to convert from Celsius to Fahrenheit.\"))\n",
        "y = input(\"What is the number you want to convert?\")\n",
        "z = float(x)\n",
        "\n",
        "if z == 1:\n",
        "    y=(float(y)-32)*5/9\n",
        "    print(y)\n",
        "elif z == 2:\n",
        "    y=float(y)*9/5+32\n",
        "    print(y)\n",
        "else:\n",
        "    print(\"Please enter either 1 or 2\")"
      ]
    },
    {
      "cell_type": "markdown",
      "metadata": {
        "tags": [],
        "id": "_nZ2F97n5o8x"
      },
      "source": [
        "### Exercise - Writing Pseudocode"
      ]
    },
    {
      "cell_type": "markdown",
      "metadata": {
        "id": "QesGGGf75o8x"
      },
      "source": [
        "To make the code more robust and improve the user experience, write pseudocode and code to add the following enhancements to the last example provided:\n",
        "\n",
        "- Implement a validation loop: After prompting the user for input, we can use a loop to keep asking for the value until a valid one is entered. This ensures that the program does not proceed with incorrect inputs. For example, if the user enters \"3\" instead of \"1\" or \"2\", the program will continue to prompt for the correct choice.\n",
        "\n",
        "- Bonus: Add more input validation. If the user enters a non-numerical value, we can display an error message and prompt for input again.\n",
        "\n",
        "    *Hint:*\n",
        "    - *To remove any leading or trailing spaces from the user's input, you can use the `lstrip()` method. This will remove any spaces from the left side of the input string. Example: input_string = input_string.lstrip(). Also, this method takes an optional argument where you can specify the characters you want to remove from the left side of the string. Example: input_string = input_string.lstrip(\"symbol_to_remove\")*\n",
        "\n",
        "    - *To replace a specific character or substring within a string, you can use the `replace()` method. This method takes two arguments: the old substring you want to replace and the new substring you want to replace it with. Example: input_string = input_string.replace(\"old_value\", \"new_value\")*\n",
        "\n",
        "    - *To check if a string consists only of numerical digits, you can use the `isdigit()` method. This method returns True if all the characters in the string are digits, and False otherwise. Example: is_numeric = input_string.isdigit()*"
      ]
    },
    {
      "cell_type": "code",
      "execution_count": 8,
      "metadata": {
        "id": "tatcE9Tk5o8x",
        "outputId": "2a78c38a-04aa-4b8f-b43f-153c36aca2bf",
        "colab": {
          "base_uri": "https://localhost:8080/"
        }
      },
      "outputs": [
        {
          "output_type": "stream",
          "name": "stdout",
          "text": [
            "Press 1 to convert from Fahrenheit to Celsius or Press 2 to convert from Celsius to Fahrenheit: 1\n",
            "What is the number you want to convert? 23\n",
            "Temperature in Celsius: -5.00\n"
          ]
        }
      ],
      "source": [
        "# Your answer here\n",
        "\n",
        "# Step 1: Start (implicit in the code execution)\n",
        "\n",
        "# Step 2: Loop until a valid choice is entered\n",
        "while True:\n",
        "    # Step 2a: Display the choice prompt\n",
        "    choice = input(\"Press 1 to convert from Fahrenheit to Celsius or Press 2 to convert from Celsius to Fahrenheit: \").strip()\n",
        "\n",
        "    # Step 2d: Check if the choice is valid\n",
        "    if choice in (\"1\", \"2\"):\n",
        "        break  # Exit the loop if a valid choice is entered\n",
        "    else:\n",
        "        # Step 2e: Display error message for invalid choice\n",
        "        print(\"Invalid choice. Please enter 1 or 2.\")\n",
        "\n",
        "# Step 3: Loop until a valid number is entered\n",
        "while True:\n",
        "    # Step 3a: Display the temperature prompt\n",
        "    temp_input = input(\"What is the number you want to convert? \").strip()\n",
        "\n",
        "    # Step 3d: Replace any commas with dots\n",
        "    temp_input = temp_input.replace(\",\", \".\")\n",
        "\n",
        "    # Step 3e: Check if the input is a valid number\n",
        "    try:\n",
        "        temp_value = float(temp_input)\n",
        "        break  # Exit the loop if a valid number is entered\n",
        "    except ValueError:\n",
        "        # Step 3f: Display error message for invalid number\n",
        "        print(\"Invalid number. Please enter a valid numerical value.\")\n",
        "\n",
        "# Step 4: If the choice is \"1\", convert Fahrenheit to Celsius\n",
        "if choice == \"1\":\n",
        "    celsius = (temp_value - 32) * 5 / 9\n",
        "    # Step 4b: Display the result in Celsius\n",
        "    print(f\"Temperature in Celsius: {celsius:.2f}\")\n",
        "\n",
        "# Step 5: Else if the choice is \"2\", convert Celsius to Fahrenheit\n",
        "elif choice == \"2\":\n",
        "    fahrenheit = temp_value * 9 / 5 + 32\n",
        "    # Step 5b: Display the result in Fahrenheit\n",
        "    print(f\"Temperature in Fahrenheit: {fahrenheit:.2f}\")\n",
        "\n",
        "# Step 6: End (implicit in the code execution)\n"
      ]
    }
  ],
  "metadata": {
    "kernelspec": {
      "display_name": "Python 3 (ipykernel)",
      "language": "python",
      "name": "python3"
    },
    "language_info": {
      "codemirror_mode": {
        "name": "ipython",
        "version": 3
      },
      "file_extension": ".py",
      "mimetype": "text/x-python",
      "name": "python",
      "nbconvert_exporter": "python",
      "pygments_lexer": "ipython3",
      "version": "3.9.13"
    },
    "colab": {
      "provenance": []
    }
  },
  "nbformat": 4,
  "nbformat_minor": 0
}